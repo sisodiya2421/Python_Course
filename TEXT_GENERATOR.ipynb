{
 "cells": [
  {
   "cell_type": "code",
   "execution_count": 1,
   "metadata": {},
   "outputs": [],
   "source": [
    "import numpy as np"
   ]
  },
  {
   "cell_type": "code",
   "execution_count": 133,
   "metadata": {},
   "outputs": [],
   "source": [
    "input_data = \"hello World this is abhisek sisodiya from gautam buddha university. this program is to print hello world from the python snippet bla bla and bla.... heelllooooo worldss!!\""
   ]
  },
  {
   "cell_type": "code",
   "execution_count": 134,
   "metadata": {},
   "outputs": [
    {
     "data": {
      "text/plain": [
       "170"
      ]
     },
     "execution_count": 134,
     "metadata": {},
     "output_type": "execute_result"
    }
   ],
   "source": [
    "len(input_data)"
   ]
  },
  {
   "cell_type": "code",
   "execution_count": 135,
   "metadata": {},
   "outputs": [],
   "source": [
    "def createTable(inp, k=3):\n",
    "    T={}\n",
    "    for i in range(len(inp)-k):\n",
    "        X = inp[i:i+k]\n",
    "        Y = inp[i+k]\n",
    "        if X in T:\n",
    "            if Y in T[X]:\n",
    "                T[X][Y] += 1\n",
    "            else:\n",
    "                T[X][Y] = 1\n",
    "        else:\n",
    "            T[X] = {\n",
    "                Y: 1\n",
    "            }\n",
    "    return T"
   ]
  },
  {
   "cell_type": "code",
   "execution_count": 136,
   "metadata": {},
   "outputs": [],
   "source": [
    "model = createTable(input_data)"
   ]
  },
  {
   "cell_type": "code",
   "execution_count": 137,
   "metadata": {},
   "outputs": [
    {
     "data": {
      "text/plain": [
       "{'hel': {'l': 2},\n",
       " 'ell': {'o': 2, 'l': 1},\n",
       " 'llo': {' ': 2, 'o': 1},\n",
       " 'lo ': {'W': 1, 'w': 1},\n",
       " 'o W': {'o': 1},\n",
       " ' Wo': {'r': 1},\n",
       " 'Wor': {'l': 1},\n",
       " 'orl': {'d': 3},\n",
       " 'rld': {' ': 2, 's': 1},\n",
       " 'ld ': {'t': 1, 'f': 1},\n",
       " 'd t': {'h': 1},\n",
       " ' th': {'i': 2, 'e': 1},\n",
       " 'thi': {'s': 2},\n",
       " 'his': {' ': 2, 'e': 1},\n",
       " 'is ': {'i': 1, 'a': 1, 'p': 1, 't': 1},\n",
       " 's i': {'s': 1},\n",
       " ' is': {' ': 2},\n",
       " 's a': {'b': 1},\n",
       " ' ab': {'h': 1},\n",
       " 'abh': {'i': 1},\n",
       " 'bhi': {'s': 1},\n",
       " 'ise': {'k': 1},\n",
       " 'sek': {' ': 1},\n",
       " 'ek ': {'s': 1},\n",
       " 'k s': {'i': 1},\n",
       " ' si': {'s': 1},\n",
       " 'sis': {'o': 1},\n",
       " 'iso': {'d': 1},\n",
       " 'sod': {'i': 1},\n",
       " 'odi': {'y': 1},\n",
       " 'diy': {'a': 1},\n",
       " 'iya': {' ': 1},\n",
       " 'ya ': {'f': 1},\n",
       " 'a f': {'r': 1},\n",
       " ' fr': {'o': 2},\n",
       " 'fro': {'m': 2},\n",
       " 'rom': {' ': 2},\n",
       " 'om ': {'g': 1, 't': 1},\n",
       " 'm g': {'a': 1},\n",
       " ' ga': {'u': 1},\n",
       " 'gau': {'t': 1},\n",
       " 'aut': {'a': 1},\n",
       " 'uta': {'m': 1},\n",
       " 'tam': {' ': 1},\n",
       " 'am ': {'b': 1, 'i': 1},\n",
       " 'm b': {'u': 1},\n",
       " ' bu': {'d': 1},\n",
       " 'bud': {'d': 1},\n",
       " 'udd': {'h': 1},\n",
       " 'ddh': {'a': 1},\n",
       " 'dha': {' ': 1},\n",
       " 'ha ': {'u': 1},\n",
       " 'a u': {'n': 1},\n",
       " ' un': {'i': 1},\n",
       " 'uni': {'v': 1},\n",
       " 'niv': {'e': 1},\n",
       " 'ive': {'r': 1},\n",
       " 'ver': {'s': 1},\n",
       " 'ers': {'i': 1},\n",
       " 'rsi': {'t': 1},\n",
       " 'sit': {'y': 1},\n",
       " 'ity': {'.': 1},\n",
       " 'ty.': {' ': 1},\n",
       " 'y. ': {'t': 1},\n",
       " '. t': {'h': 1},\n",
       " 's p': {'r': 1},\n",
       " ' pr': {'o': 1, 'i': 1},\n",
       " 'pro': {'g': 1},\n",
       " 'rog': {'r': 1},\n",
       " 'ogr': {'a': 1},\n",
       " 'gra': {'m': 1},\n",
       " 'ram': {' ': 1},\n",
       " 'm i': {'s': 1},\n",
       " 's t': {'o': 1},\n",
       " ' to': {' ': 1},\n",
       " 'to ': {'p': 1},\n",
       " 'o p': {'r': 1},\n",
       " 'pri': {'n': 1},\n",
       " 'rin': {'t': 1},\n",
       " 'int': {' ': 1},\n",
       " 'nt ': {'h': 1},\n",
       " 't h': {'e': 1},\n",
       " ' he': {'l': 1, 'e': 1},\n",
       " 'o w': {'o': 2},\n",
       " ' wo': {'r': 2},\n",
       " 'wor': {'l': 2},\n",
       " 'd f': {'r': 1},\n",
       " 'm t': {'h': 1},\n",
       " 'the': {' ': 1},\n",
       " 'he ': {'p': 1},\n",
       " 'e p': {'y': 1},\n",
       " ' py': {'t': 1},\n",
       " 'pyt': {'h': 1},\n",
       " 'yth': {'o': 1},\n",
       " 'tho': {'n': 1},\n",
       " 'hon': {' ': 1},\n",
       " 'on ': {'s': 1},\n",
       " 'n s': {'n': 1},\n",
       " ' sn': {'i': 1},\n",
       " 'sni': {'p': 1},\n",
       " 'nip': {'p': 1},\n",
       " 'ipp': {'e': 1},\n",
       " 'ppe': {'t': 1},\n",
       " 'pet': {' ': 1},\n",
       " 'et ': {'b': 1},\n",
       " 't b': {'l': 1},\n",
       " ' bl': {'a': 3},\n",
       " 'bla': {' ': 2, '.': 1},\n",
       " 'la ': {'b': 1, 'a': 1},\n",
       " 'a b': {'l': 1},\n",
       " 'a a': {'n': 1},\n",
       " ' an': {'d': 1},\n",
       " 'and': {' ': 1},\n",
       " 'nd ': {'b': 1},\n",
       " 'd b': {'l': 1},\n",
       " 'la.': {'.': 1},\n",
       " 'a..': {'.': 1},\n",
       " '...': {'.': 1, ' ': 1},\n",
       " '.. ': {'h': 1},\n",
       " '. h': {'e': 1},\n",
       " 'hee': {'l': 1},\n",
       " 'eel': {'l': 1},\n",
       " 'lll': {'o': 1},\n",
       " 'loo': {'o': 1},\n",
       " 'ooo': {'o': 2, ' ': 1},\n",
       " 'oo ': {'w': 1},\n",
       " 'lds': {'s': 1},\n",
       " 'dss': {'!': 1},\n",
       " 'ss!': {'!': 1}}"
      ]
     },
     "execution_count": 137,
     "metadata": {},
     "output_type": "execute_result"
    }
   ],
   "source": [
    "model"
   ]
  },
  {
   "cell_type": "code",
   "execution_count": 138,
   "metadata": {},
   "outputs": [],
   "source": [
    "def convertToProbability(model):\n",
    "    for X in model:\n",
    "        s = sum(model[X].values())\n",
    "        for Y in model[X]:\n",
    "            model[X][Y] /= s\n",
    "    return model"
   ]
  },
  {
   "cell_type": "code",
   "execution_count": 139,
   "metadata": {},
   "outputs": [
    {
     "data": {
      "text/plain": [
       "{'hel': {'l': 1.0},\n",
       " 'ell': {'o': 0.6666666666666666, 'l': 0.3333333333333333},\n",
       " 'llo': {' ': 0.6666666666666666, 'o': 0.3333333333333333},\n",
       " 'lo ': {'W': 0.5, 'w': 0.5},\n",
       " 'o W': {'o': 1.0},\n",
       " ' Wo': {'r': 1.0},\n",
       " 'Wor': {'l': 1.0},\n",
       " 'orl': {'d': 1.0},\n",
       " 'rld': {' ': 0.6666666666666666, 's': 0.3333333333333333},\n",
       " 'ld ': {'t': 0.5, 'f': 0.5},\n",
       " 'd t': {'h': 1.0},\n",
       " ' th': {'i': 0.6666666666666666, 'e': 0.3333333333333333},\n",
       " 'thi': {'s': 1.0},\n",
       " 'his': {' ': 0.6666666666666666, 'e': 0.3333333333333333},\n",
       " 'is ': {'i': 0.25, 'a': 0.25, 'p': 0.25, 't': 0.25},\n",
       " 's i': {'s': 1.0},\n",
       " ' is': {' ': 1.0},\n",
       " 's a': {'b': 1.0},\n",
       " ' ab': {'h': 1.0},\n",
       " 'abh': {'i': 1.0},\n",
       " 'bhi': {'s': 1.0},\n",
       " 'ise': {'k': 1.0},\n",
       " 'sek': {' ': 1.0},\n",
       " 'ek ': {'s': 1.0},\n",
       " 'k s': {'i': 1.0},\n",
       " ' si': {'s': 1.0},\n",
       " 'sis': {'o': 1.0},\n",
       " 'iso': {'d': 1.0},\n",
       " 'sod': {'i': 1.0},\n",
       " 'odi': {'y': 1.0},\n",
       " 'diy': {'a': 1.0},\n",
       " 'iya': {' ': 1.0},\n",
       " 'ya ': {'f': 1.0},\n",
       " 'a f': {'r': 1.0},\n",
       " ' fr': {'o': 1.0},\n",
       " 'fro': {'m': 1.0},\n",
       " 'rom': {' ': 1.0},\n",
       " 'om ': {'g': 0.5, 't': 0.5},\n",
       " 'm g': {'a': 1.0},\n",
       " ' ga': {'u': 1.0},\n",
       " 'gau': {'t': 1.0},\n",
       " 'aut': {'a': 1.0},\n",
       " 'uta': {'m': 1.0},\n",
       " 'tam': {' ': 1.0},\n",
       " 'am ': {'b': 0.5, 'i': 0.5},\n",
       " 'm b': {'u': 1.0},\n",
       " ' bu': {'d': 1.0},\n",
       " 'bud': {'d': 1.0},\n",
       " 'udd': {'h': 1.0},\n",
       " 'ddh': {'a': 1.0},\n",
       " 'dha': {' ': 1.0},\n",
       " 'ha ': {'u': 1.0},\n",
       " 'a u': {'n': 1.0},\n",
       " ' un': {'i': 1.0},\n",
       " 'uni': {'v': 1.0},\n",
       " 'niv': {'e': 1.0},\n",
       " 'ive': {'r': 1.0},\n",
       " 'ver': {'s': 1.0},\n",
       " 'ers': {'i': 1.0},\n",
       " 'rsi': {'t': 1.0},\n",
       " 'sit': {'y': 1.0},\n",
       " 'ity': {'.': 1.0},\n",
       " 'ty.': {' ': 1.0},\n",
       " 'y. ': {'t': 1.0},\n",
       " '. t': {'h': 1.0},\n",
       " 's p': {'r': 1.0},\n",
       " ' pr': {'o': 0.5, 'i': 0.5},\n",
       " 'pro': {'g': 1.0},\n",
       " 'rog': {'r': 1.0},\n",
       " 'ogr': {'a': 1.0},\n",
       " 'gra': {'m': 1.0},\n",
       " 'ram': {' ': 1.0},\n",
       " 'm i': {'s': 1.0},\n",
       " 's t': {'o': 1.0},\n",
       " ' to': {' ': 1.0},\n",
       " 'to ': {'p': 1.0},\n",
       " 'o p': {'r': 1.0},\n",
       " 'pri': {'n': 1.0},\n",
       " 'rin': {'t': 1.0},\n",
       " 'int': {' ': 1.0},\n",
       " 'nt ': {'h': 1.0},\n",
       " 't h': {'e': 1.0},\n",
       " ' he': {'l': 0.5, 'e': 0.5},\n",
       " 'o w': {'o': 1.0},\n",
       " ' wo': {'r': 1.0},\n",
       " 'wor': {'l': 1.0},\n",
       " 'd f': {'r': 1.0},\n",
       " 'm t': {'h': 1.0},\n",
       " 'the': {' ': 1.0},\n",
       " 'he ': {'p': 1.0},\n",
       " 'e p': {'y': 1.0},\n",
       " ' py': {'t': 1.0},\n",
       " 'pyt': {'h': 1.0},\n",
       " 'yth': {'o': 1.0},\n",
       " 'tho': {'n': 1.0},\n",
       " 'hon': {' ': 1.0},\n",
       " 'on ': {'s': 1.0},\n",
       " 'n s': {'n': 1.0},\n",
       " ' sn': {'i': 1.0},\n",
       " 'sni': {'p': 1.0},\n",
       " 'nip': {'p': 1.0},\n",
       " 'ipp': {'e': 1.0},\n",
       " 'ppe': {'t': 1.0},\n",
       " 'pet': {' ': 1.0},\n",
       " 'et ': {'b': 1.0},\n",
       " 't b': {'l': 1.0},\n",
       " ' bl': {'a': 1.0},\n",
       " 'bla': {' ': 0.6666666666666666, '.': 0.3333333333333333},\n",
       " 'la ': {'b': 0.5, 'a': 0.5},\n",
       " 'a b': {'l': 1.0},\n",
       " 'a a': {'n': 1.0},\n",
       " ' an': {'d': 1.0},\n",
       " 'and': {' ': 1.0},\n",
       " 'nd ': {'b': 1.0},\n",
       " 'd b': {'l': 1.0},\n",
       " 'la.': {'.': 1.0},\n",
       " 'a..': {'.': 1.0},\n",
       " '...': {'.': 0.5, ' ': 0.5},\n",
       " '.. ': {'h': 1.0},\n",
       " '. h': {'e': 1.0},\n",
       " 'hee': {'l': 1.0},\n",
       " 'eel': {'l': 1.0},\n",
       " 'lll': {'o': 1.0},\n",
       " 'loo': {'o': 1.0},\n",
       " 'ooo': {'o': 0.6666666666666666, ' ': 0.3333333333333333},\n",
       " 'oo ': {'w': 1.0},\n",
       " 'lds': {'s': 1.0},\n",
       " 'dss': {'!': 1.0},\n",
       " 'ss!': {'!': 1.0}}"
      ]
     },
     "execution_count": 139,
     "metadata": {},
     "output_type": "execute_result"
    }
   ],
   "source": [
    "convertToProbability(model)"
   ]
  },
  {
   "cell_type": "code",
   "execution_count": 140,
   "metadata": {},
   "outputs": [],
   "source": [
    "def sampleNext(inp, model):\n",
    "    inp = inp[-3:]\n",
    "    if inp in model:\n",
    "        outcomes = list(model[inp].keys())\n",
    "        prob = list(model[inp].values())\n",
    "        return np.random.choice(outcomes, p = prob)\n",
    "    else:\n",
    "        return ' '"
   ]
  },
  {
   "cell_type": "code",
   "execution_count": 146,
   "metadata": {},
   "outputs": [
    {
     "data": {
      "text/plain": [
       "'s'"
      ]
     },
     "execution_count": 146,
     "metadata": {},
     "output_type": "execute_result"
    }
   ],
   "source": [
    "sampleNext('abhi', model)"
   ]
  },
  {
   "cell_type": "code",
   "execution_count": 121,
   "metadata": {},
   "outputs": [],
   "source": [
    "lyrics=\"hello there is abhishek. Hello I have been waiting\""
   ]
  },
  {
   "cell_type": "code",
   "execution_count": 147,
   "metadata": {},
   "outputs": [],
   "source": [
    "def generateText(start, model, length = 1000):\n",
    "    for _ in range(length):\n",
    "        start += sampleNext(start, model)\n",
    "    return start"
   ]
  },
  {
   "cell_type": "code",
   "execution_count": 149,
   "metadata": {},
   "outputs": [],
   "source": [
    "model = convertToProbability(createTable(lyrics))"
   ]
  },
  {
   "cell_type": "code",
   "execution_count": 150,
   "metadata": {},
   "outputs": [
    {
     "data": {
      "text/plain": [
       "dict"
      ]
     },
     "execution_count": 150,
     "metadata": {},
     "output_type": "execute_result"
    }
   ],
   "source": [
    "type(model)"
   ]
  },
  {
   "cell_type": "code",
   "execution_count": 127,
   "metadata": {},
   "outputs": [
    {
     "name": "stdout",
     "output_type": "stream",
     "text": [
      "I have been waiting                                                                                                                                                                                                                                                                                                                                                                                                                                                                                                                                                                                                                                                                                                                                                                                                                                                                                                                                                                                                                         \n"
     ]
    }
   ],
   "source": [
    "print(generateText(\"I ha\", model))"
   ]
  }
 ],
 "metadata": {
  "kernelspec": {
   "display_name": "Python 3",
   "language": "python",
   "name": "python3"
  },
  "language_info": {
   "codemirror_mode": {
    "name": "ipython",
    "version": 3
   },
   "file_extension": ".py",
   "mimetype": "text/x-python",
   "name": "python",
   "nbconvert_exporter": "python",
   "pygments_lexer": "ipython3",
   "version": "3.7.3"
  }
 },
 "nbformat": 4,
 "nbformat_minor": 2
}
