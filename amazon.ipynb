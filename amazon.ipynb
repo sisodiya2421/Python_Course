{
 "cells": [
  {
   "cell_type": "code",
   "execution_count": 1,
   "metadata": {},
   "outputs": [],
   "source": [
    "from bs4 import BeautifulSoup\n",
    "import requests"
   ]
  },
  {
   "cell_type": "code",
   "execution_count": 3,
   "metadata": {},
   "outputs": [],
   "source": [
    "url = \"https://www.amazon.in/s\"\n",
    "params = {\n",
    "    \"keyword\": \"iphone\"\n",
    "}\n",
    "r=requests.get(url, params = params)"
   ]
  },
  {
   "cell_type": "code",
   "execution_count": 4,
   "metadata": {},
   "outputs": [],
   "source": [
    "soup = BeautifulSoup(r.content)"
   ]
  },
  {
   "cell_type": "code",
   "execution_count": 5,
   "metadata": {},
   "outputs": [],
   "source": [
    "results = soup.findAll('div', attrs = {\"class\": \"s-result-item\"})"
   ]
  },
  {
   "cell_type": "code",
   "execution_count": 6,
   "metadata": {},
   "outputs": [
    {
     "data": {
      "text/plain": [
       "<div class=\"sg-col-20-of-24 s-result-item sg-col-0-of-12 sg-col-28-of-32 sg-col-16-of-20 sg-col sg-col-32-of-36 sg-col-12-of-16 sg-col-24-of-28\" data-asin=\"B0711T2L8K\" data-index=\"0\"><div class=\"sg-col-inner\">\n",
       "<div class=\"s-include-content-margin s-border-bottom\">\n",
       "<div class=\"a-section a-spacing-medium\">\n",
       "<div class=\"sg-row\">\n",
       "<div class=\"a-section a-spacing-micro s-min-height-small\">\n",
       "</div>\n",
       "</div>\n",
       "<div class=\"sg-row\">\n",
       "<div class=\"sg-col-4-of-24 sg-col-4-of-12 sg-col-4-of-36 sg-col-4-of-28 sg-col-4-of-16 sg-col sg-col-4-of-20 sg-col-4-of-32\"><div class=\"sg-col-inner\">\n",
       "<div class=\"a-section a-spacing-none\">\n",
       "<span class=\"rush-component\" data-component-type=\"s-product-image\">\n",
       "<a class=\"a-link-normal\" href=\"/Apple-iPhone-Silver-64GB-Storage/dp/B0711T2L8K\" target=\"_blank\">\n",
       "<div class=\"a-section aok-relative s-image-fixed-height\">\n",
       "<img alt=\"Apple iPhone X (Silver, 64GB)\" class=\"s-image\" data-image-index=\"0\" data-image-latency=\"s-product-image\" data-image-load=\"\" data-image-source-density=\"1\" onload=\"window.uet &amp;&amp; uet('cf')\" src=\"https://m.media-amazon.com/images/I/418yR7UT0LL._AC_UL436_.jpg\" srcset=\"https://m.media-amazon.com/images/I/418yR7UT0LL._AC_UL436_.jpg 1x, https://m.media-amazon.com/images/I/418yR7UT0LL._AC_UL654_QL65_.jpg 1.5x, https://m.media-amazon.com/images/I/418yR7UT0LL._AC_UL872_QL65_.jpg 2x, https://m.media-amazon.com/images/I/418yR7UT0LL._AC_UL1090_QL65_.jpg 2.5x, https://m.media-amazon.com/images/I/418yR7UT0LL._AC_UL1308_QL65_.jpg 3x\"/>\n",
       "</div>\n",
       "</a>\n",
       "</span>\n",
       "</div>\n",
       "</div></div>\n",
       "<div class=\"sg-col-4-of-12 sg-col-8-of-16 sg-col-16-of-24 sg-col-12-of-20 sg-col-24-of-32 sg-col sg-col-28-of-36 sg-col-20-of-28\"><div class=\"sg-col-inner\">\n",
       "<div class=\"sg-row\">\n",
       "<div class=\"sg-col-4-of-12 sg-col-8-of-16 sg-col-12-of-32 sg-col-12-of-20 sg-col-12-of-36 sg-col sg-col-12-of-24 sg-col-12-of-28\"><div class=\"sg-col-inner\">\n",
       "<div class=\"a-section a-spacing-none\">\n",
       "<h2 class=\"a-size-mini a-spacing-none a-color-base s-line-clamp-2\">\n",
       "<a class=\"a-link-normal a-text-normal\" href=\"/Apple-iPhone-Silver-64GB-Storage/dp/B0711T2L8K\" target=\"_blank\">\n",
       "<span class=\"a-size-medium a-color-base a-text-normal\">Apple iPhone X (Silver, 64GB)</span>\n",
       "</a>\n",
       "</h2>\n",
       "</div>\n",
       "<div class=\"a-section a-spacing-none a-spacing-top-micro\">\n",
       "<div class=\"a-row a-size-small\">\n",
       "<span class=\"a-declarative\" data-a-popover='{\"max-width\":\"700\",\"closeButton\":false,\"position\":\"triggerBottom\",\"url\":\"/review/widgets/average-customer-review/popover/ref=acr_search__popover?ie=UTF8&amp;asin=B0711T2L8K&amp;ref=acr_search__popover&amp;contextId=search\"}' data-action=\"a-popover\">\n",
       "<a class=\"a-popover-trigger a-declarative\" href=\"javascript:void(0)\"><i class=\"a-icon a-icon-star-small a-star-small-4-5 aok-align-bottom\"><span class=\"a-icon-alt\">4.4 out of 5 stars</span></i><i class=\"a-icon a-icon-popover\"></i></a>\n",
       "</span>\n",
       "<a class=\"a-link-normal\" href=\"/Apple-iPhone-Silver-64GB-Storage/dp/B0711T2L8K#customerReviews\" target=\"_blank\">\n",
       "<span class=\"a-size-base\">1,493</span>\n",
       "</a>\n",
       "</div>\n",
       "</div>\n",
       "</div></div>\n",
       "</div>\n",
       "<div class=\"sg-row\">\n",
       "<div class=\"sg-col-4-of-12 sg-col-6-of-20 sg-col-4-of-16 sg-col sg-col-6-of-36 sg-col-6-of-28 sg-col-6-of-32 sg-col-6-of-24\"><div class=\"sg-col-inner\">\n",
       "<div class=\"a-section a-spacing-none a-spacing-top-small\">\n",
       "<div class=\"a-row a-size-base a-color-base\"><div class=\"a-row\">\n",
       "<a class=\"a-size-base a-link-normal s-no-hover a-text-normal\" href=\"/Apple-iPhone-Silver-64GB-Storage/dp/B0711T2L8K\" target=\"_blank\">\n",
       "<span class=\"a-price\" data-a-color=\"price\" data-a-size=\"l\"><span class=\"a-offscreen\">₹69,999</span><span aria-hidden=\"true\"><span class=\"a-price-symbol\">₹</span><span class=\"a-price-whole\">69,999</span></span></span>\n",
       "<span class=\"a-price\" data-a-color=\"secondary\" data-a-size=\"b\" data-a-strike=\"true\"><span class=\"a-offscreen\">₹91,900</span><span aria-hidden=\"true\"><span class=\"a-price-symbol\">₹</span><span class=\"a-price-whole\">91,900</span></span></span>\n",
       "</a>\n",
       "<span class=\"a-letter-space\"></span><span>Save ₹21,901 (24%)</span><span class=\"a-letter-space\"></span></div></div>\n",
       "</div>\n",
       "<div class=\"a-section a-spacing-none a-spacing-top-micro\">\n",
       "<div class=\"a-row a-size-base a-color-secondary s-align-children-center\"><div class=\"a-row s-align-children-center\">\n",
       "<span class=\"aok-inline-block s-image-logo-view\">\n",
       "<span class=\"aok-relative s-icon-text-medium s-prime\">\n",
       "<i aria-label=\"Amazon Prime\" class=\"a-icon a-icon-prime a-icon-medium\" role=\"img\"></i>\n",
       "</span>\n",
       "<span>\n",
       "</span>\n",
       "</span>\n",
       "<span>Get it by </span><span class=\"a-text-bold\">Today, Jun 17</span></div><div class=\"a-row\"><span>FREE Delivery by Amazon</span></div></div>\n",
       "</div>\n",
       "<div class=\"a-section a-spacing-none a-spacing-top-mini\">\n",
       "<div class=\"a-row a-size-base a-color-secondary\"><span class=\"a-size-base a-color-secondary\">More Buying Choices</span><br/><span class=\"a-color-price\">₹66,499</span><span class=\"a-letter-space\"></span>\n",
       "<a class=\"a-link-normal\" href=\"/gp/offer-listing/B0711T2L8K\">\n",
       "    \n",
       "        \n",
       "        \n",
       "            (1 new offer)\n",
       "        \n",
       "    \n",
       "</a>\n",
       "</div>\n",
       "</div>\n",
       "</div></div>\n",
       "<div class=\"sg-col-4-of-12 sg-col-6-of-20 sg-col-4-of-16 sg-col sg-col-6-of-36 sg-col-6-of-28 sg-col-6-of-32 sg-col-6-of-24\"><div class=\"sg-col-inner\">\n",
       "</div></div>\n",
       "</div>\n",
       "<div class=\"sg-row\">\n",
       "<div class=\"sg-col-20-of-24 sg-col-28-of-32 sg-col-16-of-20 sg-col sg-col-32-of-36 sg-col-8-of-12 sg-col-12-of-16 sg-col-24-of-28\"><div class=\"sg-col-inner\">\n",
       "</div></div>\n",
       "</div>\n",
       "<div class=\"sg-row\">\n",
       "<div class=\"sg-col-20-of-24 sg-col-28-of-32 sg-col-16-of-20 sg-col sg-col-32-of-36 sg-col-8-of-12 sg-col-12-of-16 sg-col-24-of-28\"><div class=\"sg-col-inner\">\n",
       "</div></div>\n",
       "</div>\n",
       "</div></div>\n",
       "</div>\n",
       "</div>\n",
       "</div>\n",
       "</div></div>"
      ]
     },
     "execution_count": 6,
     "metadata": {},
     "output_type": "execute_result"
    }
   ],
   "source": []
  }
 ],
 "metadata": {
  "kernelspec": {
   "display_name": "Python 3",
   "language": "python",
   "name": "python3"
  },
  "language_info": {
   "codemirror_mode": {
    "name": "ipython",
    "version": 3
   },
   "file_extension": ".py",
   "mimetype": "text/x-python",
   "name": "python",
   "nbconvert_exporter": "python",
   "pygments_lexer": "ipython3",
   "version": "3.7.3"
  }
 },
 "nbformat": 4,
 "nbformat_minor": 2
}
