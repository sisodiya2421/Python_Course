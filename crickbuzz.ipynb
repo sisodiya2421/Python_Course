{
 "cells": [
  {
   "cell_type": "code",
   "execution_count": 1,
   "metadata": {},
   "outputs": [],
   "source": [
    "import requests\n",
    "import time\n",
    "\n",
    "class Cricbuzz():\n",
    "    def __init__(self_):\n",
    "        pass\n",
    "    \n",
    "    def crawl_url(self, url):\n",
    "        try:\n",
    "            r = requests.get(url).json()\n",
    "            return r\n",
    "        except Exception:\n",
    "            raise\n",
    "            \n",
    "            \n",
    "    def player_mappings(self,mid):\n",
    "        url = \"http://mapps.cricbuzz.com/cbzios/match/livematches\"\n",
    "        match = self.crawl_url(url)\n",
    "        players = match.get('players')\n",
    "        d= {}\n",
    "        for p in players:\n",
    "            d[int(p['id'])] = p['name']\n"
   ]
  },
  {
   "cell_type": "code",
   "execution_count": null,
   "metadata": {},
   "outputs": [],
   "source": []
  },
  {
   "cell_type": "code",
   "execution_count": null,
   "metadata": {},
   "outputs": [],
   "source": []
  },
  {
   "cell_type": "code",
   "execution_count": 2,
   "metadata": {},
   "outputs": [],
   "source": [
    "import requests\n",
    "from bs4 import BeautifulSoup"
   ]
  },
  {
   "cell_type": "code",
   "execution_count": null,
   "metadata": {},
   "outputs": [],
   "source": []
  }
 ],
 "metadata": {
  "kernelspec": {
   "display_name": "Python 3",
   "language": "python",
   "name": "python3"
  },
  "language_info": {
   "codemirror_mode": {
    "name": "ipython",
    "version": 3
   },
   "file_extension": ".py",
   "mimetype": "text/x-python",
   "name": "python",
   "nbconvert_exporter": "python",
   "pygments_lexer": "ipython3",
   "version": "3.7.3"
  }
 },
 "nbformat": 4,
 "nbformat_minor": 2
}
