{
 "cells": [
  {
   "cell_type": "markdown",
   "metadata": {},
   "source": [
    "# Map\n",
    "map applies function to all the items in the input list. It is used to pass list items one by one to a function"
   ]
  },
  {
   "cell_type": "code",
   "execution_count": 2,
   "metadata": {},
   "outputs": [
    {
     "name": "stdout",
     "output_type": "stream",
     "text": [
      "[0, 0]\n",
      "[1, 2]\n",
      "[4, 4]\n",
      "[9, 6]\n",
      "[16, 8]\n"
     ]
    }
   ],
   "source": [
    "def multiply(x):\n",
    "    return x*x\n",
    "\n",
    "def add(x):\n",
    "    return x+x\n",
    "\n",
    "funcs = [multiply,add]\n",
    "for i in range(5):\n",
    "    value = list(map(lambda x: x(i), funcs)) #maps each element of funcs to x and then executes x()\n",
    "    print(value)"
   ]
  },
  {
   "cell_type": "markdown",
   "metadata": {},
   "source": [
    "# Filter\n",
    "\n",
    "filter creates list of elements for which a function returns true value"
   ]
  },
  {
   "cell_type": "code",
   "execution_count": 3,
   "metadata": {},
   "outputs": [
    {
     "name": "stdout",
     "output_type": "stream",
     "text": [
      "[-5, -4, -3, -2, -1]\n"
     ]
    }
   ],
   "source": [
    "numbers = range(-5,5)\n",
    "less_than_zero = list(filter(lambda x: x<0, numbers))\n",
    "print(less_than_zero)"
   ]
  },
  {
   "cell_type": "markdown",
   "metadata": {},
   "source": [
    "# Reduce\n",
    "useful for applying computation on a list and returning a result. It applies a rolling computation on sequential pair of values in the list"
   ]
  },
  {
   "cell_type": "code",
   "execution_count": 5,
   "metadata": {},
   "outputs": [],
   "source": [
    "from functools import reduce\n",
    "numbers = [1,2,3,4,5]\n",
    "product  = reduce((lambda x,y: x*y),numbers)"
   ]
  },
  {
   "cell_type": "code",
   "execution_count": 6,
   "metadata": {},
   "outputs": [
    {
     "data": {
      "text/plain": [
       "120"
      ]
     },
     "execution_count": 6,
     "metadata": {},
     "output_type": "execute_result"
    }
   ],
   "source": [
    "product"
   ]
  },
  {
   "cell_type": "code",
   "execution_count": null,
   "metadata": {},
   "outputs": [],
   "source": []
  },
  {
   "cell_type": "markdown",
   "metadata": {},
   "source": [
    "# Others"
   ]
  },
  {
   "cell_type": "code",
   "execution_count": 8,
   "metadata": {},
   "outputs": [
    {
     "name": "stdout",
     "output_type": "stream",
     "text": [
      "abhishek\n"
     ]
    }
   ],
   "source": [
    "l=[1,2,3,4,5]\n",
    "l.extend((input())) #iterates through the input and appends them."
   ]
  },
  {
   "cell_type": "code",
   "execution_count": 9,
   "metadata": {},
   "outputs": [
    {
     "data": {
      "text/plain": [
       "[1, 2, 3, 4, 5, 'a', 'b', 'h', 'i', 's', 'h', 'e', 'k']"
      ]
     },
     "execution_count": 9,
     "metadata": {},
     "output_type": "execute_result"
    }
   ],
   "source": [
    "l"
   ]
  },
  {
   "cell_type": "code",
   "execution_count": null,
   "metadata": {},
   "outputs": [],
   "source": []
  },
  {
   "cell_type": "code",
   "execution_count": 11,
   "metadata": {},
   "outputs": [
    {
     "name": "stdout",
     "output_type": "stream",
     "text": [
      "[1, 2, 3, 4, 5, 'a', 'b', 'h', 'i', 's', 'h', 'e', 'k', 9, 0, 12, 11, 13, 9, 0, 12, 11, 13]\n"
     ]
    }
   ],
   "source": [
    "l.extend([9,0,12,11,13])\n",
    "print(l)"
   ]
  },
  {
   "cell_type": "code",
   "execution_count": 14,
   "metadata": {},
   "outputs": [
    {
     "name": "stdout",
     "output_type": "stream",
     "text": [
      "[1, 2, 3, 4, 5, 'a', 'b', 'h', 'i', 's', 'h', 'e', 'k', 9, 0, 12, 11, 13, 9, 0, 12, 11, 13, 9, 0, 1, 4, 29, 10, 16, 43, 29, 10, 16, 43]\n"
     ]
    }
   ],
   "source": [
    "l.extend((29,10,16,43)) #insert any iterable within extend and it will be appended to the list itterating through\n",
    "print(l)                # each element"
   ]
  },
  {
   "cell_type": "code",
   "execution_count": null,
   "metadata": {},
   "outputs": [],
   "source": []
  },
  {
   "cell_type": "code",
   "execution_count": 18,
   "metadata": {},
   "outputs": [],
   "source": [
    "l += \"de\" # When python iterates over a string the result is a list of component character. thus the list ['d','e']\n",
    "          # add up"
   ]
  },
  {
   "cell_type": "code",
   "execution_count": 19,
   "metadata": {},
   "outputs": [
    {
     "name": "stdout",
     "output_type": "stream",
     "text": [
      "[1, 2, 3, 4, 5, 'a', 'b', 'h', 'i', 's', 'h', 'e', 'k', 9, 0, 12, 11, 13, 9, 0, 12, 11, 13, 9, 0, 1, 4, 29, 10, 16, 43, 29, 10, 16, 43, 'd', 'e', 'd', 'e']\n"
     ]
    }
   ],
   "source": [
    "print(l)"
   ]
  },
  {
   "cell_type": "code",
   "execution_count": null,
   "metadata": {},
   "outputs": [],
   "source": []
  },
  {
   "cell_type": "code",
   "execution_count": 20,
   "metadata": {},
   "outputs": [],
   "source": [
    "l += ['z','c'] #The augmented operand += expects and iterable as the second operand. It iterates over the second operand and add them individually."
   ]
  },
  {
   "cell_type": "code",
   "execution_count": 22,
   "metadata": {},
   "outputs": [
    {
     "name": "stdout",
     "output_type": "stream",
     "text": [
      "[1, 2, 3, 4, 5, 'a', 'b', 'h', 'i', 's', 'h', 'e', 'k', 9, 0, 12, 11, 13, 9, 0, 12, 11, 13, 9, 0, 1, 4, 29, 10, 16, 43, 29, 10, 16, 43, 'd', 'e', 'd', 'e', 'z', 'c']\n"
     ]
    }
   ],
   "source": [
    "print(l)"
   ]
  },
  {
   "cell_type": "code",
   "execution_count": null,
   "metadata": {},
   "outputs": [],
   "source": []
  },
  {
   "cell_type": "code",
   "execution_count": 23,
   "metadata": {},
   "outputs": [],
   "source": [
    "x = 5\n",
    "y = -5"
   ]
  },
  {
   "cell_type": "code",
   "execution_count": 26,
   "metadata": {},
   "outputs": [],
   "source": [
    "x, y = (y, x)[::-1] #the slice operation reverses the tuple and thus same thing is assigned back."
   ]
  },
  {
   "cell_type": "code",
   "execution_count": 25,
   "metadata": {},
   "outputs": [
    {
     "name": "stdout",
     "output_type": "stream",
     "text": [
      "5 -5\n"
     ]
    }
   ],
   "source": [
    "print(x,y)"
   ]
  },
  {
   "cell_type": "markdown",
   "metadata": {},
   "source": [
    "Lists can even contain complex objects, like functions, classes, and modules."
   ]
  },
  {
   "cell_type": "code",
   "execution_count": 1,
   "metadata": {},
   "outputs": [
    {
     "data": {
      "text/plain": [
       "int"
      ]
     },
     "execution_count": 1,
     "metadata": {},
     "output_type": "execute_result"
    }
   ],
   "source": [
    "int"
   ]
  },
  {
   "cell_type": "code",
   "execution_count": 2,
   "metadata": {},
   "outputs": [
    {
     "data": {
      "text/plain": [
       "<function len(obj, /)>"
      ]
     },
     "execution_count": 2,
     "metadata": {},
     "output_type": "execute_result"
    }
   ],
   "source": [
    "len"
   ]
  },
  {
   "cell_type": "code",
   "execution_count": 3,
   "metadata": {},
   "outputs": [],
   "source": [
    "def foo():\n",
    "    pass"
   ]
  },
  {
   "cell_type": "code",
   "execution_count": 5,
   "metadata": {},
   "outputs": [
    {
     "data": {
      "text/plain": [
       "<function __main__.foo()>"
      ]
     },
     "execution_count": 5,
     "metadata": {},
     "output_type": "execute_result"
    }
   ],
   "source": [
    "foo"
   ]
  },
  {
   "cell_type": "code",
   "execution_count": 6,
   "metadata": {},
   "outputs": [],
   "source": [
    "import math"
   ]
  },
  {
   "cell_type": "code",
   "execution_count": 7,
   "metadata": {},
   "outputs": [
    {
     "data": {
      "text/plain": [
       "<module 'math' from '/home/abhishek/anaconda3/lib/python3.7/lib-dynload/math.cpython-37m-x86_64-linux-gnu.so'>"
      ]
     },
     "execution_count": 7,
     "metadata": {},
     "output_type": "execute_result"
    }
   ],
   "source": [
    "math"
   ]
  },
  {
   "cell_type": "code",
   "execution_count": 12,
   "metadata": {},
   "outputs": [],
   "source": [
    "a=[int,len,foo,math,2,'grault','grant']"
   ]
  },
  {
   "cell_type": "code",
   "execution_count": 13,
   "metadata": {},
   "outputs": [
    {
     "data": {
      "text/plain": [
       "[int,\n",
       " <function len(obj, /)>,\n",
       " <function __main__.foo()>,\n",
       " <module 'math' from '/home/abhishek/anaconda3/lib/python3.7/lib-dynload/math.cpython-37m-x86_64-linux-gnu.so'>,\n",
       " 2,\n",
       " 'grault',\n",
       " 'grant']"
      ]
     },
     "execution_count": 13,
     "metadata": {},
     "output_type": "execute_result"
    }
   ],
   "source": [
    "a"
   ]
  },
  {
   "cell_type": "code",
   "execution_count": 14,
   "metadata": {},
   "outputs": [
    {
     "data": {
      "text/plain": [
       "['grant',\n",
       " 'grault',\n",
       " 2,\n",
       " <module 'math' from '/home/abhishek/anaconda3/lib/python3.7/lib-dynload/math.cpython-37m-x86_64-linux-gnu.so'>,\n",
       " <function __main__.foo()>,\n",
       " <function len(obj, /)>,\n",
       " int]"
      ]
     },
     "execution_count": 14,
     "metadata": {},
     "output_type": "execute_result"
    }
   ],
   "source": [
    "a[::-1] #reverses the list"
   ]
  },
  {
   "cell_type": "code",
   "execution_count": 16,
   "metadata": {},
   "outputs": [
    {
     "data": {
      "text/plain": [
       "[int,\n",
       " <function len(obj, /)>,\n",
       " <function __main__.foo()>,\n",
       " <module 'math' from '/home/abhishek/anaconda3/lib/python3.7/lib-dynload/math.cpython-37m-x86_64-linux-gnu.so'>,\n",
       " 2,\n",
       " 'grault',\n",
       " 'grant',\n",
       " int,\n",
       " <function len(obj, /)>,\n",
       " <function __main__.foo()>,\n",
       " <module 'math' from '/home/abhishek/anaconda3/lib/python3.7/lib-dynload/math.cpython-37m-x86_64-linux-gnu.so'>,\n",
       " 2,\n",
       " 'grault',\n",
       " 'grant']"
      ]
     },
     "execution_count": 16,
     "metadata": {},
     "output_type": "execute_result"
    }
   ],
   "source": [
    "a * 2 #replicates the list twice"
   ]
  },
  {
   "cell_type": "code",
   "execution_count": 17,
   "metadata": {},
   "outputs": [
    {
     "data": {
      "text/plain": [
       "[int,\n",
       " <function len(obj, /)>,\n",
       " <function __main__.foo()>,\n",
       " <module 'math' from '/home/abhishek/anaconda3/lib/python3.7/lib-dynload/math.cpython-37m-x86_64-linux-gnu.so'>,\n",
       " 2,\n",
       " 'grault',\n",
       " 'grant',\n",
       " 'hello',\n",
       " 'bye']"
      ]
     },
     "execution_count": 17,
     "metadata": {},
     "output_type": "execute_result"
    }
   ],
   "source": [
    "a + ['hello', 'bye']"
   ]
  },
  {
   "cell_type": "markdown",
   "metadata": {},
   "source": [
    " In Python strings are immutable"
   ]
  },
  {
   "cell_type": "code",
   "execution_count": 58,
   "metadata": {},
   "outputs": [],
   "source": [
    "c= 'abc'"
   ]
  },
  {
   "cell_type": "code",
   "execution_count": 61,
   "metadata": {},
   "outputs": [
    {
     "name": "stdout",
     "output_type": "stream",
     "text": [
      "abcdd\n"
     ]
    }
   ],
   "source": [
    "c =c + 'd'\n",
    "print(c)"
   ]
  },
  {
   "cell_type": "code",
   "execution_count": 63,
   "metadata": {},
   "outputs": [
    {
     "ename": "TypeError",
     "evalue": "'str' object does not support item assignment",
     "output_type": "error",
     "traceback": [
      "\u001b[0;31m---------------------------------------------------------------------------\u001b[0m",
      "\u001b[0;31mTypeError\u001b[0m                                 Traceback (most recent call last)",
      "\u001b[0;32m<ipython-input-63-f8f924d68975>\u001b[0m in \u001b[0;36m<module>\u001b[0;34m\u001b[0m\n\u001b[0;32m----> 1\u001b[0;31m \u001b[0mc\u001b[0m\u001b[0;34m[\u001b[0m\u001b[0;36m2\u001b[0m\u001b[0;34m]\u001b[0m \u001b[0;34m=\u001b[0m \u001b[0;34m'f'\u001b[0m\u001b[0;34m\u001b[0m\u001b[0;34m\u001b[0m\u001b[0m\n\u001b[0m",
      "\u001b[0;31mTypeError\u001b[0m: 'str' object does not support item assignment"
     ]
    }
   ],
   "source": [
    "c[2] = 'f'"
   ]
  },
  {
   "cell_type": "markdown",
   "metadata": {},
   "source": [
    "# NOOPS"
   ]
  },
  {
   "cell_type": "code",
   "execution_count": 85,
   "metadata": {},
   "outputs": [],
   "source": [
    "import requests\n",
    "import json"
   ]
  },
  {
   "cell_type": "code",
   "execution_count": 77,
   "metadata": {},
   "outputs": [],
   "source": [
    "url = \"https://api.noopschallenge.com/hexbot\"\n",
    "params = {\n",
    "    \"count\" : 100,\n",
    "}"
   ]
  },
  {
   "cell_type": "code",
   "execution_count": 78,
   "metadata": {},
   "outputs": [],
   "source": [
    "r = requests.get(url,params = params)"
   ]
  },
  {
   "cell_type": "code",
   "execution_count": 83,
   "metadata": {},
   "outputs": [
    {
     "data": {
      "text/plain": [
       "'https://api.noopschallenge.com/hexbot?count=100'"
      ]
     },
     "execution_count": 83,
     "metadata": {},
     "output_type": "execute_result"
    }
   ],
   "source": [
    "r.url"
   ]
  },
  {
   "cell_type": "code",
   "execution_count": 88,
   "metadata": {},
   "outputs": [
    {
     "data": {
      "text/plain": [
       "'{\"colors\":[{\"value\":\"#17008E\"},{\"value\":\"#EF85DF\"},{\"value\":\"#6C19F0\"},{\"value\":\"#B116E5\"},{\"value\":\"#2AE343\"},{\"value\":\"#9675B6\"},{\"value\":\"#8635FC\"},{\"value\":\"#AE17F6\"},{\"value\":\"#6708E5\"},{\"value\":\"#71EB75\"},{\"value\":\"#6A7751\"},{\"value\":\"#DC53A6\"},{\"value\":\"#02DE9D\"},{\"value\":\"#0CE73E\"},{\"value\":\"#BDC2C9\"},{\"value\":\"#35B162\"},{\"value\":\"#6DABB1\"},{\"value\":\"#68DB5E\"},{\"value\":\"#614D98\"},{\"value\":\"#798C60\"},{\"value\":\"#258DB0\"},{\"value\":\"#F40D6A\"},{\"value\":\"#663732\"},{\"value\":\"#E92482\"},{\"value\":\"#460B78\"},{\"value\":\"#743BBC\"},{\"value\":\"#7DCAAB\"},{\"value\":\"#4E040D\"},{\"value\":\"#9ED364\"},{\"value\":\"#A199F8\"},{\"value\":\"#2E8E4E\"},{\"value\":\"#31BECE\"},{\"value\":\"#723447\"},{\"value\":\"#2EE1F2\"},{\"value\":\"#255E51\"},{\"value\":\"#2DE205\"},{\"value\":\"#070EB5\"},{\"value\":\"#B1B068\"},{\"value\":\"#B2FA29\"},{\"value\":\"#C378F1\"},{\"value\":\"#FF8A16\"},{\"value\":\"#22272A\"},{\"value\":\"#2DD7A5\"},{\"value\":\"#D86965\"},{\"value\":\"#5A96BE\"},{\"value\":\"#149302\"},{\"value\":\"#84EF0D\"},{\"value\":\"#8BD699\"},{\"value\":\"#23571D\"},{\"value\":\"#790D41\"},{\"value\":\"#38B406\"},{\"value\":\"#7BFE51\"},{\"value\":\"#2187F2\"},{\"value\":\"#568326\"},{\"value\":\"#FB0FC3\"},{\"value\":\"#5F7E12\"},{\"value\":\"#87C71B\"},{\"value\":\"#0B7173\"},{\"value\":\"#046AB6\"},{\"value\":\"#199A6B\"},{\"value\":\"#F70410\"},{\"value\":\"#A4405A\"},{\"value\":\"#239A16\"},{\"value\":\"#1580B2\"},{\"value\":\"#D7A562\"},{\"value\":\"#1A8E34\"},{\"value\":\"#464BDA\"},{\"value\":\"#910BF3\"},{\"value\":\"#B98468\"},{\"value\":\"#B66111\"},{\"value\":\"#944BED\"},{\"value\":\"#3FE168\"},{\"value\":\"#360B4B\"},{\"value\":\"#17D39A\"},{\"value\":\"#B90F97\"},{\"value\":\"#AA7900\"},{\"value\":\"#69013E\"},{\"value\":\"#7CD7CC\"},{\"value\":\"#A68B62\"},{\"value\":\"#38F1F2\"},{\"value\":\"#3B9EFD\"},{\"value\":\"#FA9790\"},{\"value\":\"#7AF57C\"},{\"value\":\"#437BD6\"},{\"value\":\"#123BBA\"},{\"value\":\"#7B7FF8\"},{\"value\":\"#595C72\"},{\"value\":\"#06DAB2\"},{\"value\":\"#6E4710\"},{\"value\":\"#5F7594\"},{\"value\":\"#CD8CB1\"},{\"value\":\"#BB563A\"},{\"value\":\"#EE1A41\"},{\"value\":\"#37692A\"},{\"value\":\"#E0C8AD\"},{\"value\":\"#0D4D70\"},{\"value\":\"#8AFDBB\"},{\"value\":\"#6A1E58\"},{\"value\":\"#DBB1DD\"},{\"value\":\"#7D192E\"}]}'"
      ]
     },
     "execution_count": 88,
     "metadata": {},
     "output_type": "execute_result"
    }
   ],
   "source": [
    "r.content.decode('utf-8')"
   ]
  },
  {
   "cell_type": "code",
   "execution_count": 93,
   "metadata": {},
   "outputs": [],
   "source": [
    "with open(\"Hexcode.json\", \"w+\") as file:\n",
    "    file.write(r.content.decode('utf-8'))"
   ]
  },
  {
   "cell_type": "code",
   "execution_count": 95,
   "metadata": {},
   "outputs": [],
   "source": [
    "with open(\"Hexcode.json\", \"r\") as f:\n",
    "    colors = json.load(f)"
   ]
  },
  {
   "cell_type": "code",
   "execution_count": 107,
   "metadata": {},
   "outputs": [
    {
     "data": {
      "text/plain": [
       "'#17008E'"
      ]
     },
     "execution_count": 107,
     "metadata": {},
     "output_type": "execute_result"
    }
   ],
   "source": [
    "colors['colors'][0]['value']"
   ]
  },
  {
   "cell_type": "code",
   "execution_count": null,
   "metadata": {},
   "outputs": [],
   "source": []
  },
  {
   "cell_type": "code",
   "execution_count": 108,
   "metadata": {},
   "outputs": [],
   "source": [
    "someList = [i*2 for i in range(5)]"
   ]
  },
  {
   "cell_type": "code",
   "execution_count": 109,
   "metadata": {},
   "outputs": [
    {
     "data": {
      "text/plain": [
       "[0, 2, 4, 6, 8]"
      ]
     },
     "execution_count": 109,
     "metadata": {},
     "output_type": "execute_result"
    }
   ],
   "source": [
    "someList"
   ]
  },
  {
   "cell_type": "code",
   "execution_count": 117,
   "metadata": {},
   "outputs": [],
   "source": [
    "string_first_100 = [str(k) for k in range(100)]\n",
    "\n",
    "single_string = ', '.join( [str(k) for k in range(100)] )"
   ]
  },
  {
   "cell_type": "code",
   "execution_count": 118,
   "metadata": {},
   "outputs": [
    {
     "data": {
      "text/plain": [
       "'0, 1, 2, 3, 4, 5, 6, 7, 8, 9, 10, 11, 12, 13, 14, 15, 16, 17, 18, 19, 20, 21, 22, 23, 24, 25, 26, 27, 28, 29, 30, 31, 32, 33, 34, 35, 36, 37, 38, 39, 40, 41, 42, 43, 44, 45, 46, 47, 48, 49, 50, 51, 52, 53, 54, 55, 56, 57, 58, 59, 60, 61, 62, 63, 64, 65, 66, 67, 68, 69, 70, 71, 72, 73, 74, 75, 76, 77, 78, 79, 80, 81, 82, 83, 84, 85, 86, 87, 88, 89, 90, 91, 92, 93, 94, 95, 96, 97, 98, 99'"
      ]
     },
     "execution_count": 118,
     "metadata": {},
     "output_type": "execute_result"
    }
   ],
   "source": [
    "single_string"
   ]
  },
  {
   "cell_type": "code",
   "execution_count": null,
   "metadata": {},
   "outputs": [],
   "source": []
  },
  {
   "cell_type": "code",
   "execution_count": 120,
   "metadata": {},
   "outputs": [
    {
     "name": "stdout",
     "output_type": "stream",
     "text": [
      "2.680192708969116 seconds for list a\n",
      "2.0171926021575928 seconds for list b\n",
      "2.1368203163146973 seconds for filtered list a\n",
      "1.7414395809173584 seconds for filtered list b\n"
     ]
    }
   ],
   "source": [
    "import time \n",
    "\n",
    "BIG = 20000000\n",
    "\n",
    "def f(k):\n",
    "    return 2*k\n",
    "\n",
    "def list_a():\n",
    "    list_a = []\n",
    "    for i in range(BIG):\n",
    "        list_a.append(f(i))\n",
    "\n",
    "def list_b():\n",
    "    list_b = [f(i) for i in range(BIG)]\n",
    "\n",
    "def list_a_filtered():\n",
    "    list_a = []\n",
    "    for i in range(BIG):\n",
    "        if i%2==0:\n",
    "            list_a.append(f(i))\n",
    "\n",
    "def list_b_filtered():\n",
    "    list_b = [f(i) for i in range(BIG) if i%2==0]\n",
    "\n",
    "def benchmark(function, function_name):\n",
    "    start = time.time()\n",
    "    function()\n",
    "    end = time.time()\n",
    "    print(\"{0} seconds for {1}\".format((end - start), function_name))\n",
    "\n",
    "benchmark(list_a, \"list a\")\n",
    "benchmark(list_b, \"list b\")\n",
    "benchmark(list_a_filtered, \"filtered list a\")\n",
    "benchmark(list_b_filtered, \"filtered list b\")"
   ]
  },
  {
   "cell_type": "code",
   "execution_count": null,
   "metadata": {},
   "outputs": [],
   "source": []
  },
  {
   "cell_type": "code",
   "execution_count": 127,
   "metadata": {},
   "outputs": [
    {
     "name": "stdout",
     "output_type": "stream",
     "text": [
      "2.6994059085845947 seconds for list a\n",
      "2.0292727947235107 seconds for list b\n",
      "4.0531158447265625e-06 seconds for list c\n"
     ]
    }
   ],
   "source": [
    "import time \n",
    "\n",
    "BIG = 20000000\n",
    "\n",
    "def f(k):\n",
    "    return 2*k\n",
    "\n",
    "def benchmark(function, function_name):\n",
    "    start = time.time()\n",
    "    function()\n",
    "    end = time.time()\n",
    "    print(\"{0} seconds for {1}\".format((end - start), function_name))\n",
    "\n",
    "def list_a():\n",
    "    list_a = []\n",
    "    for i in range(BIG):\n",
    "        list_a.append(f(i))\n",
    "        \n",
    "def list_b():\n",
    "    list_b = [f(i) for i in range(BIG)]\n",
    "\n",
    "def list_c():\n",
    "    list_c = map(f, range(BIG))\n",
    "\n",
    "benchmark(list_a, \"list a\")\n",
    "benchmark(list_b, \"list b\")\n",
    "benchmark(list_c, \"list c\")"
   ]
  },
  {
   "cell_type": "code",
   "execution_count": null,
   "metadata": {},
   "outputs": [],
   "source": []
  },
  {
   "cell_type": "code",
   "execution_count": 99,
   "metadata": {},
   "outputs": [
    {
     "name": "stdout",
     "output_type": "stream",
     "text": [
      "[[(0, 1)]]\n",
      "[[(0, 3)]]\n",
      "[[(0, 5)], [(3, 4)]]\n",
      "[[(0, 4)]]\n",
      "[[(0, 7)]]\n"
     ]
    }
   ],
   "source": [
    "sample = [1,9,25,33,16,12,49]\n",
    "def condition(a,b):\n",
    "    return a**2+b**2\n",
    "items = [[[(i,j) for j in range(i,n+1) if condition(i,j) == n] for i in range(n) if [(i,j) for j in range(i,n+1) if condition(i,j) == n]] for n in sample if [[(i,j) for j in range(i,n+1) if condition(i,j) == n] for i in range(n) if [(i,j) for j in range(i,n+1) if condition(i,j) == n]]]\n",
    "for item in items:\n",
    "    print(item)"
   ]
  },
  {
   "cell_type": "markdown",
   "metadata": {},
   "source": [
    "# Optimized method for prime"
   ]
  },
  {
   "cell_type": "code",
   "execution_count": 161,
   "metadata": {},
   "outputs": [
    {
     "name": "stdout",
     "output_type": "stream",
     "text": [
      " false\n",
      "0.0005223751068115234\n"
     ]
    }
   ],
   "source": [
    "import time\n",
    "def isPrime(n) : \n",
    "  \n",
    "    # Corner cases \n",
    "    if (n <= 1) : \n",
    "        return False\n",
    "    if (n <= 3) : \n",
    "        return True\n",
    "  \n",
    "    # This is checked so that we can skip  \n",
    "    # middle five numbers in below loop \n",
    "    if (n % 2 == 0 or n % 3 == 0) : \n",
    "        return False\n",
    "  \n",
    "    i = 5\n",
    "    while(i * i <= n) : \n",
    "        if (n % i == 0 or n % (i + 2) == 0) : \n",
    "            return False\n",
    "        i = i + 6\n",
    "  \n",
    "    return True\n",
    "start = time.time()  \n",
    "# Driver Program  \n",
    "if (isPrime(91)) : \n",
    "    print(\" true\") \n",
    "else : \n",
    "    print(\" false\") \n",
    "end = time.time()\n",
    "test1 = end-start\n",
    "print(test1)"
   ]
  },
  {
   "cell_type": "markdown",
   "metadata": {},
   "source": [
    "# normal method for prime"
   ]
  },
  {
   "cell_type": "code",
   "execution_count": 137,
   "metadata": {},
   "outputs": [
    {
     "name": "stdout",
     "output_type": "stream",
     "text": [
      "11 is a prime number\n",
      "0.00022864341735839844\n"
     ]
    }
   ],
   "source": [
    "num = 11\n",
    "  \n",
    "start = time.time()\n",
    "if num > 1: \n",
    "    for i in range(2, num//2):\n",
    "        if (num % i) == 0: \n",
    "            print(num, \"is not a prime number\") \n",
    "            break\n",
    "        else: \n",
    "            print(num, \"is a prime number\")\n",
    "            break\n",
    "else: \n",
    "    print(num, \"is not a prime number\") \n",
    "end = time.time()\n",
    "test2 = end-start\n",
    "print(test2)"
   ]
  },
  {
   "cell_type": "code",
   "execution_count": 160,
   "metadata": {
    "scrolled": true
   },
   "outputs": [
    {
     "name": "stdout",
     "output_type": "stream",
     "text": [
      "1\n",
      "50 100\n",
      "53 59 61 67 71 73 79 83 89 97 \n"
     ]
    }
   ],
   "source": [
    "n=int(input())\n",
    "cases = []\n",
    "for i in range(n):\n",
    "    cases.append(input().split(\" \"))\n",
    "def isPrime(x):\n",
    "    if x <= 1:\n",
    "        return False\n",
    "    if x <= 3:\n",
    "        return True\n",
    "    if (x%2 == 0 or x%3 ==0):\n",
    "        return False\n",
    "    i = 5\n",
    "    while(i * i <= x):\n",
    "        if (x % i == 0 or x % (i + 2) == 0):\n",
    "            return False\n",
    "        i = i+6\n",
    "    return True\n",
    "for items in cases:\n",
    "    for j in range(int(items[0]),int(items[1])+1):\n",
    "        if isPrime(j) == True:\n",
    "            print(j,end=\" \")\n",
    "    print(end=\"\\n\")\n"
   ]
  },
  {
   "cell_type": "code",
   "execution_count": 184,
   "metadata": {},
   "outputs": [
    {
     "name": "stdout",
     "output_type": "stream",
     "text": [
      "2\n",
      "3\n",
      "5\n",
      "7\n",
      "11\n",
      "13\n",
      "17\n",
      "19\n",
      "23\n",
      "29\n",
      "31\n",
      "37\n",
      "41\n",
      "43\n",
      "47\n"
     ]
    }
   ],
   "source": [
    "def SieveOfEratosthenes(n): \n",
    "    prime = [True for i in range(n+1)] \n",
    "    p = 2\n",
    "    while (p * p <= n):  \n",
    "        if (prime[p] == True):  \n",
    "            for i in range(p * p, n+1, p): \n",
    "                prime[i] = False\n",
    "        p += 1\n",
    "    for p in range(2, n): \n",
    "        if prime[p]: \n",
    "             print(p)\n",
    "                \n",
    "SieveOfEratosthenes(50)"
   ]
  },
  {
   "cell_type": "code",
   "execution_count": 190,
   "metadata": {},
   "outputs": [
    {
     "data": {
      "text/plain": [
       "range(3, 3)"
      ]
     },
     "execution_count": 190,
     "metadata": {},
     "output_type": "execute_result"
    }
   ],
   "source": []
  }
 ],
 "metadata": {
  "kernelspec": {
   "display_name": "Python 3",
   "language": "python",
   "name": "python3"
  },
  "language_info": {
   "codemirror_mode": {
    "name": "ipython",
    "version": 3
   },
   "file_extension": ".py",
   "mimetype": "text/x-python",
   "name": "python",
   "nbconvert_exporter": "python",
   "pygments_lexer": "ipython3",
   "version": "3.7.3"
  }
 },
 "nbformat": 4,
 "nbformat_minor": 2
}
