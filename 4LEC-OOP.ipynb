{
 "cells": [
  {
   "cell_type": "code",
   "execution_count": 4,
   "metadata": {},
   "outputs": [
    {
     "name": "stdout",
     "output_type": "stream",
     "text": [
      "35\n",
      "Maruti mileage 25\n",
      "Honda mileage 10\n"
     ]
    }
   ],
   "source": [
    "class Car:\n",
    "    def __init__(self, mileage, name):\n",
    "        self.name = name\n",
    "        self.mileage = mileage\n",
    "    def __add__(self, other):\n",
    "        return self.mileage + other.mileage\n",
    "    def __str__(self):\n",
    "        return \"{} mileage {}\".format(self.name, self.mileage)\n",
    "\n",
    "c1 = Car(25, 'Maruti')\n",
    "c2 = Car(10, 'Honda')\n",
    "\n",
    "print(c1 + c2)\n",
    "print(c1)\n",
    "print(c2)"
   ]
  },
  {
   "cell_type": "code",
   "execution_count": 9,
   "metadata": {},
   "outputs": [],
   "source": [
    "def pattern(fn):\n",
    "    def wrapper(*args, **kwargs):\n",
    "        print(\"*\"*10)\n",
    "        print(fn(*args, **kwargs))\n",
    "        print(\"*\"*10)\n",
    "    return wrapper\n",
    "\n",
    "@pattern\n",
    "def add(a, b):\n",
    "    return a+b"
   ]
  },
  {
   "cell_type": "code",
   "execution_count": 13,
   "metadata": {},
   "outputs": [
    {
     "name": "stdout",
     "output_type": "stream",
     "text": [
      "**********\n",
      "30\n",
      "**********\n"
     ]
    }
   ],
   "source": [
    "add(10,b=20)"
   ]
  },
  {
   "cell_type": "code",
   "execution_count": 30,
   "metadata": {},
   "outputs": [],
   "source": [
    "def pattern(fn):\n",
    "    def wrapper(p,*args, **kwargs):\n",
    "        print(p*10)\n",
    "        print(fn(*args, **kwargs))\n",
    "        print(p*10)\n",
    "    return wrapper\n",
    "\n",
    "@pattern\n",
    "def add(a, b):\n",
    "    return a+b"
   ]
  },
  {
   "cell_type": "code",
   "execution_count": 31,
   "metadata": {},
   "outputs": [
    {
     "name": "stdout",
     "output_type": "stream",
     "text": [
      "%%%%%%%%%%\n",
      "19\n",
      "%%%%%%%%%%\n"
     ]
    }
   ],
   "source": [
    "add('%', 7,12)"
   ]
  },
  {
   "cell_type": "code",
   "execution_count": 32,
   "metadata": {},
   "outputs": [
    {
     "name": "stdout",
     "output_type": "stream",
     "text": [
      "**********\n",
      "19\n",
      "**********\n"
     ]
    }
   ],
   "source": [
    "add('*',7,12)"
   ]
  },
  {
   "cell_type": "code",
   "execution_count": 36,
   "metadata": {},
   "outputs": [],
   "source": [
    "def star_generator(char):   #returns the pattern function i.e., returns the wrapper function\n",
    "    def pattern(fn):\n",
    "        def wrapper(*args, **kwargs):\n",
    "            print(char*10)\n",
    "            print(fn(*args, **kwargs))\n",
    "            print(char*10)\n",
    "        return wrapper\n",
    "    return pattern\n",
    "\n",
    "@star_generator(\"*\")\n",
    "def add(a, b):\n",
    "    return a+b"
   ]
  },
  {
   "cell_type": "code",
   "execution_count": 37,
   "metadata": {},
   "outputs": [
    {
     "name": "stdout",
     "output_type": "stream",
     "text": [
      "**********\n",
      "25\n",
      "**********\n"
     ]
    }
   ],
   "source": [
    "add(5,20)"
   ]
  },
  {
   "cell_type": "code",
   "execution_count": null,
   "metadata": {},
   "outputs": [],
   "source": []
  }
 ],
 "metadata": {
  "kernelspec": {
   "display_name": "Python 3",
   "language": "python",
   "name": "python3"
  },
  "language_info": {
   "codemirror_mode": {
    "name": "ipython",
    "version": 3
   },
   "file_extension": ".py",
   "mimetype": "text/x-python",
   "name": "python",
   "nbconvert_exporter": "python",
   "pygments_lexer": "ipython3",
   "version": "3.7.3"
  }
 },
 "nbformat": 4,
 "nbformat_minor": 2
}
