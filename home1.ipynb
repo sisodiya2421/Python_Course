{
 "cells": [
  {
   "cell_type": "code",
   "execution_count": 4,
   "metadata": {},
   "outputs": [
    {
     "name": "stdout",
     "output_type": "stream",
     "text": [
      "decorating foo\n",
      "Inside foo()\n"
     ]
    }
   ],
   "source": [
    "def decorators1(f):\n",
    "    def wrapper(*args,**kwargs):\n",
    "        print(\"decorating\",f.__name__)\n",
    "        f()\n",
    "    return wrapper\n",
    "\n",
    "@decorators1\n",
    "def foo():\n",
    "    print(\"Inside foo()\")\n",
    "foo()\n",
    "    "
   ]
  },
  {
   "cell_type": "markdown",
   "metadata": {},
   "source": [
    "# using class as decorators"
   ]
  },
  {
   "cell_type": "code",
   "execution_count": 5,
   "metadata": {},
   "outputs": [
    {
     "name": "stdout",
     "output_type": "stream",
     "text": [
      "Decorating foo\n",
      "Inside foo()\n"
     ]
    }
   ],
   "source": [
    "class decorators2:\n",
    "    \n",
    "    def __init__(self,f):\n",
    "        self.f = f\n",
    "        \n",
    "    def __call__(self):\n",
    "        print(\"Decorating\", self.f.__name__)\n",
    "        self.f()\n",
    "        \n",
    "@decorators2\n",
    "def foo():\n",
    "    print(\"Inside foo()\")\n",
    "foo()"
   ]
  },
  {
   "cell_type": "markdown",
   "metadata": {},
   "source": [
    "# Magic methods OR Dunders "
   ]
  },
  {
   "cell_type": "code",
   "execution_count": 7,
   "metadata": {},
   "outputs": [
    {
     "name": "stdout",
     "output_type": "stream",
     "text": [
      "<__main__.string object at 0x7f7414514ef0>\n"
     ]
    }
   ],
   "source": [
    "class string:\n",
    "    \n",
    "    def __init__(self, string):\n",
    "        self.string = string\n",
    "        \n",
    "if __name__ == \"__main__\":\n",
    "    string1 = string(\"Hello\")\n",
    "    print(string1) #prints the memory address of the string object"
   ]
  },
  {
   "cell_type": "code",
   "execution_count": 8,
   "metadata": {},
   "outputs": [
    {
     "name": "stdout",
     "output_type": "stream",
     "text": [
      "Object Hello\n"
     ]
    }
   ],
   "source": [
    "class string:\n",
    "    \n",
    "    def __init__(self, string):\n",
    "        self.string = string\n",
    "        \n",
    "    def __repr__(self): # represents the string object\n",
    "        return 'Object {}'.format(self.string)\n",
    "    \n",
    "if __name__ == \"__main__\":\n",
    "    string1 = string(\"Hello\")\n",
    "    print(string1)"
   ]
  },
  {
   "cell_type": "code",
   "execution_count": 9,
   "metadata": {},
   "outputs": [
    {
     "ename": "TypeError",
     "evalue": "unsupported operand type(s) for +: 'string' and 'str'",
     "output_type": "error",
     "traceback": [
      "\u001b[0;31m---------------------------------------------------------------------------\u001b[0m",
      "\u001b[0;31mTypeError\u001b[0m                                 Traceback (most recent call last)",
      "\u001b[0;32m<ipython-input-9-9cc8bc8350a9>\u001b[0m in \u001b[0;36m<module>\u001b[0;34m\u001b[0m\n\u001b[1;32m      9\u001b[0m \u001b[0;32mif\u001b[0m \u001b[0m__name__\u001b[0m \u001b[0;34m==\u001b[0m \u001b[0;34m\"__main__\"\u001b[0m\u001b[0;34m:\u001b[0m\u001b[0;34m\u001b[0m\u001b[0;34m\u001b[0m\u001b[0m\n\u001b[1;32m     10\u001b[0m     \u001b[0mstring1\u001b[0m \u001b[0;34m=\u001b[0m \u001b[0mstring\u001b[0m\u001b[0;34m(\u001b[0m\u001b[0;34m\"Hello\"\u001b[0m\u001b[0;34m)\u001b[0m\u001b[0;34m\u001b[0m\u001b[0;34m\u001b[0m\u001b[0m\n\u001b[0;32m---> 11\u001b[0;31m     \u001b[0mprint\u001b[0m\u001b[0;34m(\u001b[0m\u001b[0mstring1\u001b[0m \u001b[0;34m+\u001b[0m \u001b[0;34m\" World!!\"\u001b[0m\u001b[0;34m)\u001b[0m\u001b[0;34m\u001b[0m\u001b[0;34m\u001b[0m\u001b[0m\n\u001b[0m",
      "\u001b[0;31mTypeError\u001b[0m: unsupported operand type(s) for +: 'string' and 'str'"
     ]
    }
   ],
   "source": [
    "class string:\n",
    "    \n",
    "    def __init__(self, string):\n",
    "        self.string = string\n",
    "        \n",
    "    def __repr__(self): # represents the string object\n",
    "        return 'Object {}'.format(self.string)\n",
    "    \n",
    "if __name__ == \"__main__\":\n",
    "    string1 = string(\"Hello\")\n",
    "    print(string1 + \" World!!\")"
   ]
  },
  {
   "cell_type": "markdown",
   "metadata": {},
   "source": [
    "# Adding __add__ dunder to apply + operation"
   ]
  },
  {
   "cell_type": "code",
   "execution_count": 11,
   "metadata": {},
   "outputs": [
    {
     "name": "stdout",
     "output_type": "stream",
     "text": [
      "Hello World!!\n"
     ]
    }
   ],
   "source": [
    "class string:\n",
    "    def __init__(self, string):\n",
    "        self.string = string\n",
    "        \n",
    "    def __repr__(self): #represents the string object\n",
    "        return 'Object {}'.format(self.string)\n",
    "    \n",
    "    def __add__(self, other):\n",
    "        return self.string + other\n",
    "    \n",
    "if __name__ == '__main__':\n",
    "    string1 = string(\"Hello \")\n",
    "    print(string1 + \"World!!\")"
   ]
  },
  {
   "cell_type": "code",
   "execution_count": null,
   "metadata": {},
   "outputs": [],
   "source": []
  }
 ],
 "metadata": {
  "kernelspec": {
   "display_name": "Python 3",
   "language": "python",
   "name": "python3"
  },
  "language_info": {
   "codemirror_mode": {
    "name": "ipython",
    "version": 3
   },
   "file_extension": ".py",
   "mimetype": "text/x-python",
   "name": "python",
   "nbconvert_exporter": "python",
   "pygments_lexer": "ipython3",
   "version": "3.7.3"
  }
 },
 "nbformat": 4,
 "nbformat_minor": 2
}
